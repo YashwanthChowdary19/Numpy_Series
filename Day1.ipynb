{
 "cells": [
  {
   "cell_type": "markdown",
   "id": "d0f28998-65b2-4831-95a7-95ed436fc7e1",
   "metadata": {},
   "source": [
    "# Numpy"
   ]
  },
  {
   "cell_type": "markdown",
   "id": "7788582d-a181-4272-bcb1-77c01db2ae8b",
   "metadata": {},
   "source": [
    "```\n",
    "NumPy (short for Numerical Python) is a powerful open-source Python library used for numerical and scientific computing.\n",
    "\n",
    " Key Features of NumPy:\n",
    "\n",
    "- Multidimensional arrays: The core of NumPy is the ndarray, a fast, memory-efficient array for storing and manipulating data.\n",
    "\n",
    "- Vectorized operations: Perform element-wise operations on arrays without writing loops.\n",
    "\n",
    "- Mathematical functions: Includes a wide range of mathematical operations like linear algebra, statistics, and more.\n",
    "\n",
    "- Broadcasting: Efficiently performs arithmetic operations on arrays of different shapes.\n",
    "\n",
    "- Integration: Works well with other scientific libraries like Pandas, Matplotlib, and SciPy.\n",
    "```"
   ]
  },
  {
   "cell_type": "markdown",
   "id": "5c5b2bf9-f7d4-43ef-a206-c870e7499056",
   "metadata": {},
   "source": [
    "### `creating an numpy array`"
   ]
  },
  {
   "cell_type": "code",
   "execution_count": 8,
   "id": "5276fcda-ad1e-4326-9d71-42a143db89fc",
   "metadata": {},
   "outputs": [],
   "source": [
    "# first we need to import numpy \n",
    "import numpy as np # np is the short form, you can np instead of numpy"
   ]
  },
  {
   "cell_type": "code",
   "execution_count": 7,
   "id": "f620b799-6ff2-4cea-b3a5-f54881d625c3",
   "metadata": {},
   "outputs": [
    {
     "name": "stdout",
     "output_type": "stream",
     "text": [
      "[1 2 3 4 5]\n",
      "<class 'numpy.ndarray'>\n"
     ]
    }
   ],
   "source": [
    "# creating 1D array using np.array \n",
    "# arrays works on homogeneous data only\n",
    "arr = np.array([1,2,3,4,5]) # 1D array also called vector\n",
    "print(arr)\n",
    "print(type(arr)) "
   ]
  },
  {
   "cell_type": "code",
   "execution_count": 6,
   "id": "7f7acd7f-d05c-4390-b5d2-f89c826335fe",
   "metadata": {},
   "outputs": [
    {
     "data": {
      "text/plain": [
       "array([[1, 2, 3],\n",
       "       [4, 5, 6],\n",
       "       [7, 8, 9]])"
      ]
     },
     "execution_count": 6,
     "metadata": {},
     "output_type": "execute_result"
    }
   ],
   "source": [
    "# 2D array also matrices\n",
    "arr = np.array([[1,2,3],[4,5,6],[7,8,9]]) # 2D means collection of 1D's \n",
    "arr"
   ]
  },
  {
   "cell_type": "code",
   "execution_count": 5,
   "id": "1c73ef6b-5dce-429d-af06-35acffe1323b",
   "metadata": {},
   "outputs": [
    {
     "data": {
      "text/plain": [
       "array([[[1, 2, 3],\n",
       "        [4, 5, 6],\n",
       "        [7, 8, 9]],\n",
       "\n",
       "       [[1, 2, 3],\n",
       "        [4, 5, 6],\n",
       "        [7, 8, 9]]])"
      ]
     },
     "execution_count": 5,
     "metadata": {},
     "output_type": "execute_result"
    }
   ],
   "source": [
    "# 3D array also called tensors \n",
    "arr = np.array([[[1,2,3],[4,5,6],[7,8,9]],[[1,2,3],[4,5,6],[7,8,9]]])# 3D means collection of 2D values\n",
    "arr"
   ]
  },
  {
   "cell_type": "code",
   "execution_count": 11,
   "id": "941ab119-2631-4f84-a7bc-ee5a13a56980",
   "metadata": {},
   "outputs": [
    {
     "data": {
      "text/plain": [
       "array([ 0,  2,  4,  6,  8, 10, 12, 14, 16, 18, 20])"
      ]
     },
     "execution_count": 11,
     "metadata": {},
     "output_type": "execute_result"
    }
   ],
   "source": [
    "# creating a 1D array using arange function \n",
    "arr = np.arange(0,21,2) # (start_index:end_index:step_size)\n",
    "arr"
   ]
  },
  {
   "cell_type": "code",
   "execution_count": 14,
   "id": "fa7e16ab-5e08-408e-bcfd-ed0f4555c8d7",
   "metadata": {},
   "outputs": [
    {
     "data": {
      "text/plain": [
       "array([[1, 1, 1, 1, 1],\n",
       "       [1, 1, 1, 1, 1],\n",
       "       [1, 1, 1, 1, 1]])"
      ]
     },
     "execution_count": 14,
     "metadata": {},
     "output_type": "execute_result"
    }
   ],
   "source": [
    "# creating matrix of ones \n",
    "arr = np.ones((3,5)) # we need to give the parameters in tuple, in tuple(no_of_rows,no_of_cols)\n",
    "arr"
   ]
  },
  {
   "cell_type": "code",
   "execution_count": 16,
   "id": "d404e437-6d90-4dc4-81bb-e871ffa8fdef",
   "metadata": {},
   "outputs": [
    {
     "data": {
      "text/plain": [
       "array([[0., 0., 0., 0., 0.],\n",
       "       [0., 0., 0., 0., 0.],\n",
       "       [0., 0., 0., 0., 0.]])"
      ]
     },
     "execution_count": 16,
     "metadata": {},
     "output_type": "execute_result"
    }
   ],
   "source": [
    "# creating matrix of zeros \n",
    "arr = np.zeros((3,5))\n",
    "arr"
   ]
  },
  {
   "cell_type": "code",
   "execution_count": 30,
   "id": "1303cbce-e721-4d2c-9351-16e79cc1c84d",
   "metadata": {},
   "outputs": [
    {
     "name": "stdout",
     "output_type": "stream",
     "text": [
      "[1 2 3 4 5 6 7 8 9]\n",
      "[[1 2 3]\n",
      " [4 5 6]\n",
      " [7 8 9]]\n"
     ]
    },
    {
     "data": {
      "text/plain": [
       "array([[[ 1,  2,  3],\n",
       "        [ 4,  5,  6]],\n",
       "\n",
       "       [[ 7,  8,  9],\n",
       "        [10, 11, 12]]])"
      ]
     },
     "execution_count": 30,
     "metadata": {},
     "output_type": "execute_result"
    }
   ],
   "source": [
    "# reshape the array from one Dimension to another \n",
    "arr = np.array([[1,2,3],[4,5,6],[7,8,9]]) \n",
    "reshaped_arr = np.reshape(arr,9) # here converting the all values \n",
    "print(reshaped_arr) \n",
    "reshaped_arr = np.reshape(arr,(3,3))\n",
    "print(reshaped_arr)\n",
    "# note : the product of the tuple should be equal to the number of values otherwise error\n",
    "arr = np.arange(1,13).reshape((2,2,3)) # it will create 2 2X3 matrices\n",
    "arr"
   ]
  },
  {
   "cell_type": "code",
   "execution_count": 35,
   "id": "084ad2f1-a5a6-4f82-8985-34d3c8f6a6bb",
   "metadata": {},
   "outputs": [
    {
     "data": {
      "text/plain": [
       "array([[1., 0., 0.],\n",
       "       [0., 1., 0.],\n",
       "       [0., 0., 1.]])"
      ]
     },
     "execution_count": 35,
     "metadata": {},
     "output_type": "execute_result"
    }
   ],
   "source": [
    "# identity matrix \n",
    "arr = np.identity(3)\n",
    "arr"
   ]
  },
  {
   "cell_type": "code",
   "execution_count": 42,
   "id": "6a6bc847-13fe-4235-898d-b37a171626ff",
   "metadata": {},
   "outputs": [
    {
     "data": {
      "text/plain": [
       "array([ 1,  2,  3,  4,  5,  6,  7,  8,  9, 10])"
      ]
     },
     "execution_count": 42,
     "metadata": {},
     "output_type": "execute_result"
    }
   ],
   "source": [
    "# linspace : linear space uniformly distribute the values from starting value to ending value\n",
    "arr = np.linspace(1,10,10,dtype = int,axis=0)\n",
    "arr"
   ]
  },
  {
   "cell_type": "code",
   "execution_count": 44,
   "id": "933fd613-b136-48b3-9b64-fc5e34ee1f6d",
   "metadata": {},
   "outputs": [
    {
     "data": {
      "text/plain": [
       "array([0.26629082, 0.60730683, 0.25981916, 0.73468253, 0.78289245,\n",
       "       0.63209278, 0.27969646, 0.78043478, 0.58957717, 0.08084825])"
      ]
     },
     "execution_count": 44,
     "metadata": {},
     "output_type": "execute_result"
    }
   ],
   "source": [
    "# random values between 0 to 1\n",
    "arr = np.random.random(10) # 10 random values\n",
    "arr"
   ]
  },
  {
   "cell_type": "code",
   "execution_count": null,
   "id": "30a92cd3-c83f-401f-a055-deb85240fbe7",
   "metadata": {},
   "outputs": [],
   "source": [
    "# dtype : you can change the datatype of any array"
   ]
  },
  {
   "cell_type": "code",
   "execution_count": 45,
   "id": "dc2546b8-7bfa-41ca-9f31-7fe52bb556b1",
   "metadata": {},
   "outputs": [
    {
     "data": {
      "text/plain": [
       "array([1, 2, 3, 4, 5])"
      ]
     },
     "execution_count": 45,
     "metadata": {},
     "output_type": "execute_result"
    }
   ],
   "source": [
    "arr = np.array([1,2,3,4,5]) # by default int\n",
    "arr"
   ]
  },
  {
   "cell_type": "code",
   "execution_count": 46,
   "id": "d52fb0f9-aca0-4ef9-b469-4bcc6e1d0ab8",
   "metadata": {},
   "outputs": [
    {
     "data": {
      "text/plain": [
       "array([1., 2., 3., 4., 5.])"
      ]
     },
     "execution_count": 46,
     "metadata": {},
     "output_type": "execute_result"
    }
   ],
   "source": [
    "arr = np.array([1,2,3,4,5],dtype=float)\n",
    "arr"
   ]
  },
  {
   "cell_type": "code",
   "execution_count": 48,
   "id": "2255b0be-03d5-48a2-85e7-2a4c1321a6e5",
   "metadata": {},
   "outputs": [
    {
     "data": {
      "text/plain": [
       "array([ True,  True,  True,  True,  True])"
      ]
     },
     "execution_count": 48,
     "metadata": {},
     "output_type": "execute_result"
    }
   ],
   "source": [
    "arr = np.array([1,2,3,4,5],dtype=bool) # return 1 for non zero values\n",
    "arr"
   ]
  },
  {
   "cell_type": "code",
   "execution_count": 49,
   "id": "61e12c79-6e3a-4819-87ee-99651428a745",
   "metadata": {},
   "outputs": [
    {
     "data": {
      "text/plain": [
       "array([1.+0.j, 2.+0.j, 3.+0.j, 4.+0.j, 5.+0.j])"
      ]
     },
     "execution_count": 49,
     "metadata": {},
     "output_type": "execute_result"
    }
   ],
   "source": [
    "arr = np.array([1,2,3,4,5],dtype=complex)\n",
    "arr"
   ]
  },
  {
   "cell_type": "markdown",
   "id": "14049647-66de-4493-98da-9d65cd38441f",
   "metadata": {},
   "source": [
    "### `Array Attributes`"
   ]
  },
  {
   "cell_type": "code",
   "execution_count": 66,
   "id": "f3daa953-2baa-46ec-beab-53337ef03c83",
   "metadata": {},
   "outputs": [],
   "source": [
    "# lets create some exmaples of arrays \n",
    "a1 = np.array([1,2,3,4,5],dtype=np.int32)\n",
    "a2 = np.arange(1,11,dtype=float).reshape((5,2))\n",
    "a3 = np.arange(8,dtype=np.int64).reshape((2,2,2))"
   ]
  },
  {
   "cell_type": "code",
   "execution_count": 55,
   "id": "ab9720b3-a6ca-4201-afed-e4e15b103099",
   "metadata": {},
   "outputs": [
    {
     "data": {
      "text/plain": [
       "array([1, 2, 3, 4, 5])"
      ]
     },
     "execution_count": 55,
     "metadata": {},
     "output_type": "execute_result"
    }
   ],
   "source": [
    "a1"
   ]
  },
  {
   "cell_type": "code",
   "execution_count": 56,
   "id": "34e98463-9336-493b-81f6-971803a09761",
   "metadata": {},
   "outputs": [
    {
     "data": {
      "text/plain": [
       "array([[ 1,  2],\n",
       "       [ 3,  4],\n",
       "       [ 5,  6],\n",
       "       [ 7,  8],\n",
       "       [ 9, 10]])"
      ]
     },
     "execution_count": 56,
     "metadata": {},
     "output_type": "execute_result"
    }
   ],
   "source": [
    "a2"
   ]
  },
  {
   "cell_type": "code",
   "execution_count": 57,
   "id": "f116073d-ff50-4b6d-bc98-397fb6fded08",
   "metadata": {},
   "outputs": [
    {
     "data": {
      "text/plain": [
       "array([[[0, 1],\n",
       "        [2, 3]],\n",
       "\n",
       "       [[4, 5],\n",
       "        [6, 7]]])"
      ]
     },
     "execution_count": 57,
     "metadata": {},
     "output_type": "execute_result"
    }
   ],
   "source": [
    "a3"
   ]
  },
  {
   "cell_type": "code",
   "execution_count": 60,
   "id": "20616899-c127-4146-bde4-0674a08e18ec",
   "metadata": {},
   "outputs": [
    {
     "name": "stdout",
     "output_type": "stream",
     "text": [
      "1\n",
      "2\n",
      "3\n"
     ]
    }
   ],
   "source": [
    "# ndim : defines array dimension \n",
    "print(a1.ndim)\n",
    "print(a2.ndim) \n",
    "print(a3.ndim)"
   ]
  },
  {
   "cell_type": "code",
   "execution_count": 61,
   "id": "33dcd0ad-11c6-46ae-b011-d3ee92727a0b",
   "metadata": {},
   "outputs": [
    {
     "name": "stdout",
     "output_type": "stream",
     "text": [
      "(5,)\n",
      "(5, 2)\n",
      "(2, 2, 2)\n"
     ]
    }
   ],
   "source": [
    "# shape : defines the number of rows and columns \n",
    "print(a1.shape)\n",
    "print(a2.shape) \n",
    "print(a3.shape) "
   ]
  },
  {
   "cell_type": "code",
   "execution_count": 69,
   "id": "78969e7d-0f0d-4743-b771-fe7b83bfafd9",
   "metadata": {},
   "outputs": [
    {
     "name": "stdout",
     "output_type": "stream",
     "text": [
      "5\n",
      "10\n",
      "8\n"
     ]
    }
   ],
   "source": [
    "# size : returns number of elements in an array \n",
    "print(a1.size) \n",
    "print(a2.size) \n",
    "print(a3.size) "
   ]
  },
  {
   "cell_type": "code",
   "execution_count": 68,
   "id": "bc2ba0b9-f198-45e5-b4f3-b71ae646fb57",
   "metadata": {},
   "outputs": [
    {
     "name": "stdout",
     "output_type": "stream",
     "text": [
      "int32\n",
      "float64\n",
      "int64\n"
     ]
    }
   ],
   "source": [
    "# dtype : returns the datatype of an array \n",
    "print(a1.dtype) \n",
    "print(a2.dtype) \n",
    "print(a3.dtype)"
   ]
  },
  {
   "cell_type": "code",
   "execution_count": 71,
   "id": "846741bc-ddc1-498e-98e3-3209063a1938",
   "metadata": {},
   "outputs": [
    {
     "name": "stdout",
     "output_type": "stream",
     "text": [
      "4\n",
      "8\n",
      "8\n"
     ]
    }
   ],
   "source": [
    "# itemsize : returns the number of bytes taken by each element, this is based on datatype \n",
    "print(a1.itemsize) \n",
    "print(a2.itemsize) \n",
    "print(a3.itemsize) # int64 and float64 has same bytes (8)"
   ]
  },
  {
   "cell_type": "markdown",
   "id": "b9da49d3-9055-45d4-85e6-14d7293e7de9",
   "metadata": {},
   "source": [
    "### `changing datatype`"
   ]
  },
  {
   "cell_type": "code",
   "execution_count": 72,
   "id": "7545f6bb-cc25-4307-b8d6-ac8729f76de4",
   "metadata": {},
   "outputs": [
    {
     "data": {
      "text/plain": [
       "array([[[0, 1],\n",
       "        [2, 3]],\n",
       "\n",
       "       [[4, 5],\n",
       "        [6, 7]]], dtype=int64)"
      ]
     },
     "execution_count": 72,
     "metadata": {},
     "output_type": "execute_result"
    }
   ],
   "source": [
    "# astype() function \n",
    "a3"
   ]
  },
  {
   "cell_type": "code",
   "execution_count": 75,
   "id": "bd5b3223-8967-4c2d-ae5e-9508495d4ec8",
   "metadata": {},
   "outputs": [
    {
     "data": {
      "text/plain": [
       "array([[[0, 1],\n",
       "        [2, 3]],\n",
       "\n",
       "       [[4, 5],\n",
       "        [6, 7]]], dtype=int16)"
      ]
     },
     "execution_count": 75,
     "metadata": {},
     "output_type": "execute_result"
    }
   ],
   "source": [
    "a3.astype(\"int16\")"
   ]
  },
  {
   "cell_type": "code",
   "execution_count": 76,
   "id": "44be9735-1d1a-4a17-ae5d-2c4fa34a370b",
   "metadata": {},
   "outputs": [
    {
     "data": {
      "text/plain": [
       "array([[[0.+0.j, 1.+0.j],\n",
       "        [2.+0.j, 3.+0.j]],\n",
       "\n",
       "       [[4.+0.j, 5.+0.j],\n",
       "        [6.+0.j, 7.+0.j]]])"
      ]
     },
     "execution_count": 76,
     "metadata": {},
     "output_type": "execute_result"
    }
   ],
   "source": [
    "a3.astype(\"complex\")"
   ]
  },
  {
   "cell_type": "markdown",
   "id": "727da4ae-7cff-4222-b9a4-9cfa84a0627d",
   "metadata": {},
   "source": [
    "### `array operations`\n",
    "``` \n",
    "scalar operations \n",
    "vector operations \n",
    "```"
   ]
  },
  {
   "cell_type": "code",
   "execution_count": null,
   "id": "cf3450de-c328-4b68-bf9b-d9c8bf5b8e7f",
   "metadata": {},
   "outputs": [],
   "source": [
    "# scalar operations : performing operations on array with single element (scalar)\n",
    "# again two types 1) arithmetic 2) relational"
   ]
  },
  {
   "cell_type": "code",
   "execution_count": 81,
   "id": "0d575d6d-8b4c-4aee-b58d-6391a9451be9",
   "metadata": {},
   "outputs": [
    {
     "name": "stdout",
     "output_type": "stream",
     "text": [
      "[ 1  2  3  4  5  6  7  8  9 10]\n",
      "[11 12 13 14 15 16 17 18 19 20]\n",
      "[ 5 10 15 20 25 30 35 40 45 50]\n"
     ]
    }
   ],
   "source": [
    "# arithmetic operations (all operators)\n",
    "a1 = np.arange(1,11)\n",
    "print(a1)\n",
    "print(a1+10) # added 10 to each element in an array\n",
    "print(a1*5)"
   ]
  },
  {
   "cell_type": "code",
   "execution_count": 82,
   "id": "458fc1d6-37fa-468e-9670-622d0729aa66",
   "metadata": {},
   "outputs": [
    {
     "data": {
      "text/plain": [
       "array([False, False, False, False, False,  True,  True,  True,  True,\n",
       "        True])"
      ]
     },
     "execution_count": 82,
     "metadata": {},
     "output_type": "execute_result"
    }
   ],
   "source": [
    "# relational (all operators) \n",
    "a1 > 5"
   ]
  },
  {
   "cell_type": "code",
   "execution_count": 83,
   "id": "82e1e0fe-8616-4ffe-9e5f-4add1b2a6c8f",
   "metadata": {},
   "outputs": [
    {
     "data": {
      "text/plain": [
       "array([False, False, False, False,  True, False, False, False, False,\n",
       "       False])"
      ]
     },
     "execution_count": 83,
     "metadata": {},
     "output_type": "execute_result"
    }
   ],
   "source": [
    "a1 == 5"
   ]
  },
  {
   "cell_type": "code",
   "execution_count": null,
   "id": "c42f5338-1a9b-4e97-8740-ac433e3daead",
   "metadata": {},
   "outputs": [],
   "source": [
    "# # vector operations : performing operations on array with another array (vector)\n",
    "# only  1) arithmetic"
   ]
  },
  {
   "cell_type": "code",
   "execution_count": 86,
   "id": "4e0052d8-7538-49f1-8230-47f909b89794",
   "metadata": {},
   "outputs": [
    {
     "name": "stdout",
     "output_type": "stream",
     "text": [
      "[ 1  2  3  4  5  6  7  8  9 10]\n",
      "[11 12 13 14 15 16 17 18 19 20]\n"
     ]
    }
   ],
   "source": [
    "# artihmetic \n",
    "a1 = np.arange(1,11) \n",
    "a2 = np.arange(11,21)\n",
    "print(a1)\n",
    "print(a2)"
   ]
  },
  {
   "cell_type": "code",
   "execution_count": 87,
   "id": "4ecc4045-fc00-41b3-9709-8b1e7da9b894",
   "metadata": {},
   "outputs": [
    {
     "data": {
      "text/plain": [
       "array([12, 14, 16, 18, 20, 22, 24, 26, 28, 30])"
      ]
     },
     "execution_count": 87,
     "metadata": {},
     "output_type": "execute_result"
    }
   ],
   "source": [
    "a1 + a2 # each from both arrays are added \n"
   ]
  },
  {
   "cell_type": "code",
   "execution_count": 88,
   "id": "23a964b5-89ec-43f3-82b4-8dd62508c82d",
   "metadata": {},
   "outputs": [
    {
     "data": {
      "text/plain": [
       "array([ 11,  24,  39,  56,  75,  96, 119, 144, 171, 200])"
      ]
     },
     "execution_count": 88,
     "metadata": {},
     "output_type": "execute_result"
    }
   ],
   "source": [
    "a1 * a2"
   ]
  },
  {
   "cell_type": "code",
   "execution_count": 89,
   "id": "5037cc73-9d87-44f0-a7e4-95e2909c983f",
   "metadata": {},
   "outputs": [],
   "source": [
    "# note : number of values should be same in both arrays"
   ]
  },
  {
   "cell_type": "code",
   "execution_count": 90,
   "id": "67913546-b231-47af-beea-4bd1ddd27bc3",
   "metadata": {},
   "outputs": [
    {
     "name": "stdout",
     "output_type": "stream",
     "text": [
      "[ 1  2  3  4  5  6  7  8  9 10]\n",
      "[11 12 13 14 15 16 17 18 19]\n"
     ]
    }
   ],
   "source": [
    "# example \n",
    "a1 = np.arange(1,11) \n",
    "a2 = np.arange(11,20)\n",
    "print(a1)\n",
    "print(a2)"
   ]
  },
  {
   "cell_type": "code",
   "execution_count": 91,
   "id": "052c91e9-8fc3-4114-a8e6-ea98398fd209",
   "metadata": {},
   "outputs": [
    {
     "ename": "ValueError",
     "evalue": "operands could not be broadcast together with shapes (10,) (9,) ",
     "output_type": "error",
     "traceback": [
      "\u001b[1;31m---------------------------------------------------------------------------\u001b[0m",
      "\u001b[1;31mValueError\u001b[0m                                Traceback (most recent call last)",
      "Cell \u001b[1;32mIn[91], line 1\u001b[0m\n\u001b[1;32m----> 1\u001b[0m \u001b[43ma1\u001b[49m\u001b[43m \u001b[49m\u001b[38;5;241;43m+\u001b[39;49m\u001b[43m \u001b[49m\u001b[43ma2\u001b[49m\n",
      "\u001b[1;31mValueError\u001b[0m: operands could not be broadcast together with shapes (10,) (9,) "
     ]
    }
   ],
   "source": [
    "a1 + a2"
   ]
  }
 ],
 "metadata": {
  "kernelspec": {
   "display_name": "Python 3 (ipykernel)",
   "language": "python",
   "name": "python3"
  },
  "language_info": {
   "codemirror_mode": {
    "name": "ipython",
    "version": 3
   },
   "file_extension": ".py",
   "mimetype": "text/x-python",
   "name": "python",
   "nbconvert_exporter": "python",
   "pygments_lexer": "ipython3",
   "version": "3.10.10"
  }
 },
 "nbformat": 4,
 "nbformat_minor": 5
}
