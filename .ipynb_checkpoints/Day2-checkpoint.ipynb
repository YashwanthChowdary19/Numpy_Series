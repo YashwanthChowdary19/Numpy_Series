{
 "cells": [
  {
   "cell_type": "markdown",
   "id": "f5aecdb9-a1d9-4dfb-99c9-da50eb238671",
   "metadata": {},
   "source": [
    "# Array Functions\n",
    "```\n",
    "min/ max/ sum/ prod/ mean/ median/ std/ var/ dot/ sin/ cos/ tan/ round/ floor/ ceil \n",
    "```"
   ]
  },
  {
   "cell_type": "code",
   "execution_count": 2,
   "id": "0790995a-0df5-4ad5-a7fd-afe79dc80d22",
   "metadata": {},
   "outputs": [],
   "source": [
    "import numpy as np"
   ]
  },
  {
   "cell_type": "code",
   "execution_count": 3,
   "id": "abd389c4-b662-4ca9-a86f-60312e119d05",
   "metadata": {},
   "outputs": [],
   "source": [
    "# lets create an array \n",
    "a1 = np.random.random(10).reshape(5,2)*100\n",
    "a2 = np.random.random(10).reshape(2,5)*100"
   ]
  },
  {
   "cell_type": "code",
   "execution_count": 4,
   "id": "ad00138a-8fab-4268-ae91-450e4de6d458",
   "metadata": {},
   "outputs": [
    {
     "data": {
      "text/plain": [
       "array([[88, 62],\n",
       "       [90, 88],\n",
       "       [75, 32],\n",
       "       [ 8, 55],\n",
       "       [89, 63]], dtype=int64)"
      ]
     },
     "execution_count": 4,
     "metadata": {},
     "output_type": "execute_result"
    }
   ],
   "source": [
    "arr1=a1.astype(np.int64)\n",
    "arr1"
   ]
  },
  {
   "cell_type": "code",
   "execution_count": 5,
   "id": "eec6bdf9-e0e9-45cf-9bfe-556ab98711dc",
   "metadata": {},
   "outputs": [
    {
     "data": {
      "text/plain": [
       "array([[32, 44, 46, 67, 51],\n",
       "       [ 4, 42, 76, 96, 95]])"
      ]
     },
     "execution_count": 5,
     "metadata": {},
     "output_type": "execute_result"
    }
   ],
   "source": [
    "arr2=a2.astype(np.int32)\n",
    "arr2"
   ]
  },
  {
   "cell_type": "markdown",
   "id": "2796cacc-afcc-4c9f-aab6-69d6ee200f84",
   "metadata": {},
   "source": [
    "`min()`"
   ]
  },
  {
   "cell_type": "code",
   "execution_count": 6,
   "id": "d4a152f7-ec83-4abb-a038-50c85ef2275e",
   "metadata": {},
   "outputs": [
    {
     "data": {
      "text/plain": [
       "8"
      ]
     },
     "execution_count": 6,
     "metadata": {},
     "output_type": "execute_result"
    }
   ],
   "source": [
    "np.min(arr1) # it will find the min value from entire array"
   ]
  },
  {
   "cell_type": "code",
   "execution_count": 7,
   "id": "e0f33968-780e-4d0b-812d-d0e7ea6e4d51",
   "metadata": {},
   "outputs": [
    {
     "data": {
      "text/plain": [
       "array([ 8, 32], dtype=int64)"
      ]
     },
     "execution_count": 7,
     "metadata": {},
     "output_type": "execute_result"
    }
   ],
   "source": [
    "np.min(arr1,axis=0) # it will find the min value from each column "
   ]
  },
  {
   "cell_type": "code",
   "execution_count": 8,
   "id": "4dcb42bc-c9d1-46ca-b89b-dc11fa49fe89",
   "metadata": {},
   "outputs": [
    {
     "data": {
      "text/plain": [
       "array([62, 88, 32,  8, 63], dtype=int64)"
      ]
     },
     "execution_count": 8,
     "metadata": {},
     "output_type": "execute_result"
    }
   ],
   "source": [
    "np.min(arr1,axis=1) # it will find the min value from each row "
   ]
  },
  {
   "cell_type": "markdown",
   "id": "b817022c-4a3d-4131-b6d4-55fc945e2410",
   "metadata": {},
   "source": [
    "`max()`"
   ]
  },
  {
   "cell_type": "code",
   "execution_count": 9,
   "id": "d46ba156-4b05-4655-b327-8e78ed3e0bf5",
   "metadata": {},
   "outputs": [
    {
     "data": {
      "text/plain": [
       "90"
      ]
     },
     "execution_count": 9,
     "metadata": {},
     "output_type": "execute_result"
    }
   ],
   "source": [
    "np.max(arr1) # it will find the max value from entire array"
   ]
  },
  {
   "cell_type": "code",
   "execution_count": 10,
   "id": "e0843c08-dd14-4a92-97fe-6248693e53a0",
   "metadata": {},
   "outputs": [
    {
     "data": {
      "text/plain": [
       "array([90, 88], dtype=int64)"
      ]
     },
     "execution_count": 10,
     "metadata": {},
     "output_type": "execute_result"
    }
   ],
   "source": [
    "np.max(arr1,axis=0) # it will find the max value from each column "
   ]
  },
  {
   "cell_type": "code",
   "execution_count": 11,
   "id": "03f66228-02d9-4948-8c22-2ca0df9082a2",
   "metadata": {},
   "outputs": [
    {
     "data": {
      "text/plain": [
       "array([88, 90, 75, 55, 89], dtype=int64)"
      ]
     },
     "execution_count": 11,
     "metadata": {},
     "output_type": "execute_result"
    }
   ],
   "source": [
    "np.max(arr1,axis=1) # it will find the max value from each row "
   ]
  },
  {
   "cell_type": "markdown",
   "id": "417fab00-1c44-4bfb-aeeb-5e60eea5dccf",
   "metadata": {},
   "source": [
    "`sum()`"
   ]
  },
  {
   "cell_type": "code",
   "execution_count": 12,
   "id": "f1481059-4714-458d-b69d-940037bad5ff",
   "metadata": {},
   "outputs": [
    {
     "data": {
      "text/plain": [
       "650"
      ]
     },
     "execution_count": 12,
     "metadata": {},
     "output_type": "execute_result"
    }
   ],
   "source": [
    "np.sum(arr1) # it will return the total sum of an entire array"
   ]
  },
  {
   "cell_type": "code",
   "execution_count": 13,
   "id": "51293092-6fad-4dc6-bf36-508dc669a23b",
   "metadata": {},
   "outputs": [
    {
     "data": {
      "text/plain": [
       "array([350, 300], dtype=int64)"
      ]
     },
     "execution_count": 13,
     "metadata": {},
     "output_type": "execute_result"
    }
   ],
   "source": [
    "np.sum(arr1,axis=0) # it will return the total sum of an each coloumn"
   ]
  },
  {
   "cell_type": "code",
   "execution_count": 14,
   "id": "bce70bb6-d15b-4813-b3fe-f70386a9b4ac",
   "metadata": {},
   "outputs": [
    {
     "data": {
      "text/plain": [
       "array([150, 178, 107,  63, 152], dtype=int64)"
      ]
     },
     "execution_count": 14,
     "metadata": {},
     "output_type": "execute_result"
    }
   ],
   "source": [
    "np.sum(arr1,axis=1) # it will return the total sum of an each row"
   ]
  },
  {
   "cell_type": "markdown",
   "id": "46b17473-5ac3-440c-af83-723dd546f2b1",
   "metadata": {},
   "source": [
    "`prod()`"
   ]
  },
  {
   "cell_type": "code",
   "execution_count": 15,
   "id": "99b3329c-73a3-4133-9b99-0cef0dbf2644",
   "metadata": {},
   "outputs": [
    {
     "name": "stdout",
     "output_type": "stream",
     "text": [
      "255855064227840000\n"
     ]
    }
   ],
   "source": [
    "print(np.prod(arr1)) # it will return the total product of an entire array"
   ]
  },
  {
   "cell_type": "code",
   "execution_count": 16,
   "id": "0efd2379-cfde-47b5-8411-09e5042408a5",
   "metadata": {},
   "outputs": [
    {
     "data": {
      "text/plain": [
       "array([422928000, 604961280], dtype=int64)"
      ]
     },
     "execution_count": 16,
     "metadata": {},
     "output_type": "execute_result"
    }
   ],
   "source": [
    "np.prod(arr1,axis=0) # it will return the total product of an each coloumn"
   ]
  },
  {
   "cell_type": "code",
   "execution_count": 17,
   "id": "09fbf9e3-f9da-498f-9683-a33546457b84",
   "metadata": {},
   "outputs": [
    {
     "data": {
      "text/plain": [
       "array([5456, 7920, 2400,  440, 5607], dtype=int64)"
      ]
     },
     "execution_count": 17,
     "metadata": {},
     "output_type": "execute_result"
    }
   ],
   "source": [
    "np.prod(arr1,axis=1) # it will return the total product of an each row"
   ]
  },
  {
   "cell_type": "markdown",
   "id": "a0d40ba5-5cf2-42da-acec-137a82567692",
   "metadata": {},
   "source": [
    "`mean()`"
   ]
  },
  {
   "cell_type": "code",
   "execution_count": 18,
   "id": "d79f0cd3-15f6-420e-a63f-4741d2252cf0",
   "metadata": {},
   "outputs": [
    {
     "data": {
      "text/plain": [
       "65.0"
      ]
     },
     "execution_count": 18,
     "metadata": {},
     "output_type": "execute_result"
    }
   ],
   "source": [
    "np.mean(arr1) # it will return the average value of an entire array"
   ]
  },
  {
   "cell_type": "code",
   "execution_count": 19,
   "id": "4f824878-4b78-468c-8b06-efa531a9fd41",
   "metadata": {},
   "outputs": [
    {
     "data": {
      "text/plain": [
       "array([70., 60.])"
      ]
     },
     "execution_count": 19,
     "metadata": {},
     "output_type": "execute_result"
    }
   ],
   "source": [
    "np.mean(arr1,axis=0) # it will return the total average of an each coloumn"
   ]
  },
  {
   "cell_type": "code",
   "execution_count": 20,
   "id": "55cafbb4-9521-4bd9-a28c-f5fffd4103ce",
   "metadata": {},
   "outputs": [
    {
     "data": {
      "text/plain": [
       "array([75. , 89. , 53.5, 31.5, 76. ])"
      ]
     },
     "execution_count": 20,
     "metadata": {},
     "output_type": "execute_result"
    }
   ],
   "source": [
    "np.mean(arr1,axis=1) # it will return the total average of an each row"
   ]
  },
  {
   "cell_type": "markdown",
   "id": "ccebf696-c4dd-4611-b544-d019fd7a3243",
   "metadata": {},
   "source": [
    "`median()`"
   ]
  },
  {
   "cell_type": "code",
   "execution_count": 21,
   "id": "7700f9f1-cf39-427b-9315-38f8ac6eadea",
   "metadata": {},
   "outputs": [
    {
     "data": {
      "text/plain": [
       "69.0"
      ]
     },
     "execution_count": 21,
     "metadata": {},
     "output_type": "execute_result"
    }
   ],
   "source": [
    "np.median(arr1) # it will return the median value after sorting an array for an entire array"
   ]
  },
  {
   "cell_type": "code",
   "execution_count": 22,
   "id": "f248e0d8-681e-4db9-afdb-f6865b1517f3",
   "metadata": {},
   "outputs": [
    {
     "data": {
      "text/plain": [
       "array([88., 62.])"
      ]
     },
     "execution_count": 22,
     "metadata": {},
     "output_type": "execute_result"
    }
   ],
   "source": [
    "np.median(arr1,axis=0) # it will return the median value after sorting an array in column wise"
   ]
  },
  {
   "cell_type": "code",
   "execution_count": 23,
   "id": "bbbfc659-3541-4488-ab59-576f628f169c",
   "metadata": {},
   "outputs": [
    {
     "data": {
      "text/plain": [
       "array([75. , 89. , 53.5, 31.5, 76. ])"
      ]
     },
     "execution_count": 23,
     "metadata": {},
     "output_type": "execute_result"
    }
   ],
   "source": [
    "np.median(arr1,axis=1) # it will return the median value after sorting an array in row wise"
   ]
  },
  {
   "cell_type": "markdown",
   "id": "b65cb9a4-4f0f-4a54-81ba-a3d1cd93de15",
   "metadata": {},
   "source": [
    "`std()`"
   ]
  },
  {
   "cell_type": "code",
   "execution_count": 24,
   "id": "9b361889-85ff-4bf0-9fda-e3044e07a3b5",
   "metadata": {},
   "outputs": [
    {
     "data": {
      "text/plain": [
       "26.095976701399778"
      ]
     },
     "execution_count": 24,
     "metadata": {},
     "output_type": "execute_result"
    }
   ],
   "source": [
    "np.std(arr1) # return standard deviation value"
   ]
  },
  {
   "cell_type": "code",
   "execution_count": 25,
   "id": "924d2e20-9fc7-4feb-8fa9-a486c785fc47",
   "metadata": {},
   "outputs": [
    {
     "data": {
      "text/plain": [
       "array([31.47697571, 17.92205345])"
      ]
     },
     "execution_count": 25,
     "metadata": {},
     "output_type": "execute_result"
    }
   ],
   "source": [
    "np.std(arr1,axis=0) # col wise"
   ]
  },
  {
   "cell_type": "code",
   "execution_count": 26,
   "id": "e549bd29-76ff-4e50-b48f-19469d32515b",
   "metadata": {},
   "outputs": [
    {
     "data": {
      "text/plain": [
       "array([13. ,  1. , 21.5, 23.5, 13. ])"
      ]
     },
     "execution_count": 26,
     "metadata": {},
     "output_type": "execute_result"
    }
   ],
   "source": [
    "np.std(arr1,axis=1) # row wise"
   ]
  },
  {
   "cell_type": "markdown",
   "id": "0ec0c7f8-1142-4a9f-835e-b8c88117b74c",
   "metadata": {},
   "source": [
    "`var()`"
   ]
  },
  {
   "cell_type": "code",
   "execution_count": 27,
   "id": "cb9a634f-a86a-446d-bd0a-f7cfc14f4e61",
   "metadata": {},
   "outputs": [
    {
     "data": {
      "text/plain": [
       "681.0"
      ]
     },
     "execution_count": 27,
     "metadata": {},
     "output_type": "execute_result"
    }
   ],
   "source": [
    "np.var(arr1) # return variance"
   ]
  },
  {
   "cell_type": "code",
   "execution_count": 28,
   "id": "b3421e82-f18b-4f28-a28f-cff72534c875",
   "metadata": {},
   "outputs": [
    {
     "data": {
      "text/plain": [
       "array([990.8, 321.2])"
      ]
     },
     "execution_count": 28,
     "metadata": {},
     "output_type": "execute_result"
    }
   ],
   "source": [
    "np.var(arr1,axis=0) # return variance for each column"
   ]
  },
  {
   "cell_type": "code",
   "execution_count": 29,
   "id": "ed2be042-1837-4a3f-ba29-6f0783e9e5b3",
   "metadata": {},
   "outputs": [
    {
     "data": {
      "text/plain": [
       "array([169.  ,   1.  , 462.25, 552.25, 169.  ])"
      ]
     },
     "execution_count": 29,
     "metadata": {},
     "output_type": "execute_result"
    }
   ],
   "source": [
    "np.var(arr1,axis=1) # return variance for each row"
   ]
  },
  {
   "cell_type": "markdown",
   "id": "d227bce0-d60c-4cfb-8f88-eddc415c7a2a",
   "metadata": {},
   "source": [
    "`sin()`"
   ]
  },
  {
   "cell_type": "code",
   "execution_count": 30,
   "id": "5695bf1b-c393-431d-806c-ded97b1b9c8f",
   "metadata": {},
   "outputs": [
    {
     "data": {
      "text/plain": [
       "array([[ 0.0353983 , -0.7391807 ],\n",
       "       [ 0.89399666,  0.0353983 ],\n",
       "       [-0.38778164,  0.55142668],\n",
       "       [ 0.98935825, -0.99975517],\n",
       "       [ 0.86006941,  0.1673557 ]])"
      ]
     },
     "execution_count": 30,
     "metadata": {},
     "output_type": "execute_result"
    }
   ],
   "source": [
    "np.sin(arr1) "
   ]
  },
  {
   "cell_type": "markdown",
   "id": "ca95a29a-5289-4458-8a24-48ae9f12ef9e",
   "metadata": {},
   "source": [
    "`cos()`"
   ]
  },
  {
   "cell_type": "code",
   "execution_count": 31,
   "id": "e0338f0f-cdf9-404b-8eb7-9d9c33d438fa",
   "metadata": {},
   "outputs": [
    {
     "data": {
      "text/plain": [
       "array([[ 0.99937328,  0.67350716],\n",
       "       [-0.44807362,  0.99937328],\n",
       "       [ 0.92175127,  0.83422336],\n",
       "       [-0.14550003,  0.02212676],\n",
       "       [ 0.51017704,  0.98589658]])"
      ]
     },
     "execution_count": 31,
     "metadata": {},
     "output_type": "execute_result"
    }
   ],
   "source": [
    "np.cos(arr1)"
   ]
  },
  {
   "cell_type": "markdown",
   "id": "f0bce869-7bde-4296-b371-da6daaa588f8",
   "metadata": {},
   "source": [
    "`tan()`"
   ]
  },
  {
   "cell_type": "code",
   "execution_count": 32,
   "id": "6224c184-f2f0-4903-bef5-42f7e6a69470",
   "metadata": {},
   "outputs": [
    {
     "data": {
      "text/plain": [
       "array([[ 3.54205013e-02, -1.09750978e+00],\n",
       "       [-1.99520041e+00,  3.54205013e-02],\n",
       "       [-4.20700951e-01,  6.61006041e-01],\n",
       "       [-6.79971146e+00, -4.51830879e+01],\n",
       "       [ 1.68582537e+00,  1.69749752e-01]])"
      ]
     },
     "execution_count": 32,
     "metadata": {},
     "output_type": "execute_result"
    }
   ],
   "source": [
    "np.tan(arr1)"
   ]
  },
  {
   "cell_type": "markdown",
   "id": "26681399-96e7-4a86-a54a-956b389af8e8",
   "metadata": {},
   "source": [
    "`dot()`"
   ]
  },
  {
   "cell_type": "code",
   "execution_count": 33,
   "id": "7f366c18-3ac2-4fcc-ac3f-1ae04efc087c",
   "metadata": {},
   "outputs": [
    {
     "data": {
      "text/plain": [
       "array([[ 3064,  6476,  8760, 11848, 10378],\n",
       "       [ 3232,  7656, 10828, 14478, 12950],\n",
       "       [ 2528,  4644,  5882,  8097,  6865],\n",
       "       [  476,  2662,  4548,  5816,  5633],\n",
       "       [ 3100,  6562,  8882, 12011, 10524]], dtype=int64)"
      ]
     },
     "execution_count": 33,
     "metadata": {},
     "output_type": "execute_result"
    }
   ],
   "source": [
    "np.dot(arr1,arr2) \n",
    "# rules for dot product : 1) no of columns in first array should be equals to the no of rows in second array otherwise error \n",
    "# and it return the output in no of rows in first array X no of cols in second array"
   ]
  },
  {
   "cell_type": "code",
   "execution_count": 34,
   "id": "e2ac22e1-79c4-41fd-8b2e-0fdb67322ba7",
   "metadata": {},
   "outputs": [
    {
     "data": {
      "text/plain": [
       "array([[23.01412385, 62.06855776],\n",
       "       [96.77290846, 56.99217481],\n",
       "       [20.27949762, 68.91631481],\n",
       "       [44.85372451,  5.40548178],\n",
       "       [25.00172239, 78.76062432]])"
      ]
     },
     "execution_count": 34,
     "metadata": {},
     "output_type": "execute_result"
    }
   ],
   "source": [
    "# example array \n",
    "arr3 = np.random.random(10).reshape(5,2)*100\n",
    "arr3"
   ]
  },
  {
   "cell_type": "markdown",
   "id": "c3b1f9f2-bb6c-4e30-9522-9fcafa2243b7",
   "metadata": {},
   "source": [
    "`floor()`"
   ]
  },
  {
   "cell_type": "code",
   "execution_count": 35,
   "id": "9bf9535b-6a40-47c0-abce-c6ab77030c2a",
   "metadata": {},
   "outputs": [
    {
     "data": {
      "text/plain": [
       "array([[23., 62.],\n",
       "       [96., 56.],\n",
       "       [20., 68.],\n",
       "       [44.,  5.],\n",
       "       [25., 78.]])"
      ]
     },
     "execution_count": 35,
     "metadata": {},
     "output_type": "execute_result"
    }
   ],
   "source": [
    "np.floor(arr3) # it return only interger part and ignores decimal part"
   ]
  },
  {
   "cell_type": "markdown",
   "id": "938978dd-c670-4af0-9ab2-bd4f8da383bb",
   "metadata": {},
   "source": [
    "`round()`"
   ]
  },
  {
   "cell_type": "code",
   "execution_count": 36,
   "id": "1a32cd6e-c661-4a53-b6aa-2791293ac260",
   "metadata": {},
   "outputs": [
    {
     "data": {
      "text/plain": [
       "array([[23., 62.],\n",
       "       [97., 57.],\n",
       "       [20., 69.],\n",
       "       [45.,  5.],\n",
       "       [25., 79.]])"
      ]
     },
     "execution_count": 36,
     "metadata": {},
     "output_type": "execute_result"
    }
   ],
   "source": [
    "np.round(arr3) # it return the nearest integer value "
   ]
  },
  {
   "cell_type": "markdown",
   "id": "905c9915-4c02-4ae4-82ff-a2cea7c77492",
   "metadata": {},
   "source": [
    "`ceil()`"
   ]
  },
  {
   "cell_type": "code",
   "execution_count": 37,
   "id": "bbda894b-657b-4d36-a6e2-b151bc8f27ee",
   "metadata": {},
   "outputs": [
    {
     "data": {
      "text/plain": [
       "array([[24., 63.],\n",
       "       [97., 57.],\n",
       "       [21., 69.],\n",
       "       [45.,  6.],\n",
       "       [26., 79.]])"
      ]
     },
     "execution_count": 37,
     "metadata": {},
     "output_type": "execute_result"
    }
   ],
   "source": [
    "np.ceil(arr3) # it returns next integer value"
   ]
  },
  {
   "cell_type": "markdown",
   "id": "b27a8d0f-c15c-4c8d-a479-c06487fee6fb",
   "metadata": {},
   "source": [
    "# Indexing and Slicing"
   ]
  },
  {
   "cell_type": "code",
   "execution_count": 38,
   "id": "dd6fa171-b77b-43e6-9849-7ac607cdf251",
   "metadata": {},
   "outputs": [],
   "source": [
    "# 1D \n",
    "arr1 = np.arange(1,11)\n",
    "# 2D \n",
    "arr2 = np.arange(1,11).reshape(5,2) \n",
    "# 3D \n",
    "arr3 = np.arange(1,17).reshape(2,4,2)"
   ]
  },
  {
   "cell_type": "code",
   "execution_count": 39,
   "id": "90d8c531-e1f6-4d46-b69d-6c6cbb0c7daa",
   "metadata": {},
   "outputs": [
    {
     "data": {
      "text/plain": [
       "array([ 1,  2,  3,  4,  5,  6,  7,  8,  9, 10])"
      ]
     },
     "execution_count": 39,
     "metadata": {},
     "output_type": "execute_result"
    }
   ],
   "source": [
    "arr1"
   ]
  },
  {
   "cell_type": "markdown",
   "id": "1aca43c9-4fca-40e5-83e4-5e1d936e1b75",
   "metadata": {},
   "source": [
    "### `indexing on 1D`"
   ]
  },
  {
   "cell_type": "code",
   "execution_count": 40,
   "id": "89fdf867-4cc9-44d2-abee-117658d229bb",
   "metadata": {},
   "outputs": [
    {
     "data": {
      "text/plain": [
       "1"
      ]
     },
     "execution_count": 40,
     "metadata": {},
     "output_type": "execute_result"
    }
   ],
   "source": [
    "# fist element \n",
    "arr1[0]"
   ]
  },
  {
   "cell_type": "code",
   "execution_count": 41,
   "id": "19eec5b5-e7cc-48d7-84e6-a295f6118f76",
   "metadata": {},
   "outputs": [
    {
     "data": {
      "text/plain": [
       "2"
      ]
     },
     "execution_count": 41,
     "metadata": {},
     "output_type": "execute_result"
    }
   ],
   "source": [
    "# last element\n",
    "arr1[1]"
   ]
  },
  {
   "cell_type": "code",
   "execution_count": 42,
   "id": "f7e02060-30b5-43a0-a265-070edbc374df",
   "metadata": {},
   "outputs": [
    {
     "data": {
      "text/plain": [
       "6"
      ]
     },
     "execution_count": 42,
     "metadata": {},
     "output_type": "execute_result"
    }
   ],
   "source": [
    "# any middle element \n",
    "arr1[5]"
   ]
  },
  {
   "cell_type": "markdown",
   "id": "aa282c44-ed21-41ee-8f6c-7974d936b32b",
   "metadata": {},
   "source": [
    "### `slicing on 1D`"
   ]
  },
  {
   "cell_type": "code",
   "execution_count": 43,
   "id": "73a3dbbe-6c40-45e6-9967-d496440eb339",
   "metadata": {},
   "outputs": [
    {
     "data": {
      "text/plain": [
       "array([3, 4, 5, 6])"
      ]
     },
     "execution_count": 43,
     "metadata": {},
     "output_type": "execute_result"
    }
   ],
   "source": [
    "# 3 to 6 \n",
    "arr1[2:6]"
   ]
  },
  {
   "cell_type": "code",
   "execution_count": 44,
   "id": "db6c507a-2136-46a1-a3de-45aaff3cec38",
   "metadata": {},
   "outputs": [
    {
     "data": {
      "text/plain": [
       "array([8, 7, 6, 5, 4])"
      ]
     },
     "execution_count": 44,
     "metadata": {},
     "output_type": "execute_result"
    }
   ],
   "source": [
    "# 8 to 4 \n",
    "arr1[-3:-8:-1]"
   ]
  },
  {
   "cell_type": "markdown",
   "id": "eb7d4d17-adf8-4cb0-a5fb-0299ffc4049f",
   "metadata": {},
   "source": [
    "### `indexing on 2D`"
   ]
  },
  {
   "cell_type": "code",
   "execution_count": 45,
   "id": "8e93e712-7054-4004-a3f8-e5496f3dd35b",
   "metadata": {},
   "outputs": [
    {
     "data": {
      "text/plain": [
       "array([[ 1,  2],\n",
       "       [ 3,  4],\n",
       "       [ 5,  6],\n",
       "       [ 7,  8],\n",
       "       [ 9, 10]])"
      ]
     },
     "execution_count": 45,
     "metadata": {},
     "output_type": "execute_result"
    }
   ],
   "source": [
    "arr2"
   ]
  },
  {
   "cell_type": "code",
   "execution_count": 46,
   "id": "a3da8b20-f586-41bd-945c-d8705fc45674",
   "metadata": {},
   "outputs": [
    {
     "name": "stdout",
     "output_type": "stream",
     "text": [
      "5\n",
      "5\n"
     ]
    }
   ],
   "source": [
    "# 5 \n",
    "print(arr2[2][0])\n",
    "# or \n",
    "print(arr2[2,0])"
   ]
  },
  {
   "cell_type": "code",
   "execution_count": 47,
   "id": "eb63975e-7d37-4149-92cc-8bca22097bc9",
   "metadata": {},
   "outputs": [
    {
     "data": {
      "text/plain": [
       "8"
      ]
     },
     "execution_count": 47,
     "metadata": {},
     "output_type": "execute_result"
    }
   ],
   "source": [
    "# 8 \n",
    "arr2[3,1] # 4rd row , 2 col "
   ]
  },
  {
   "cell_type": "markdown",
   "id": "4af47593-6fe5-4da1-bde2-c386892407d1",
   "metadata": {},
   "source": [
    "### `slicing on 2D`"
   ]
  },
  {
   "cell_type": "code",
   "execution_count": 48,
   "id": "0ec60873-8d33-41d0-b8c7-53468e798542",
   "metadata": {},
   "outputs": [
    {
     "data": {
      "text/plain": [
       "array([[3, 4],\n",
       "       [5, 6]])"
      ]
     },
     "execution_count": 48,
     "metadata": {},
     "output_type": "execute_result"
    }
   ],
   "source": [
    "arr2[1:3,:] # syntax : [row_start:row_end,col_start:col_end]"
   ]
  },
  {
   "cell_type": "code",
   "execution_count": 49,
   "id": "30deeb8d-2c83-4bc4-9579-2dcf3bd620b8",
   "metadata": {},
   "outputs": [
    {
     "data": {
      "text/plain": [
       "array([[ 1,  2],\n",
       "       [ 9, 10]])"
      ]
     },
     "execution_count": 49,
     "metadata": {},
     "output_type": "execute_result"
    }
   ],
   "source": [
    "# print 1 2 9 10\n",
    "arr2[::4,:]"
   ]
  },
  {
   "cell_type": "code",
   "execution_count": 50,
   "id": "dddc1d02-123e-43b1-9b81-05139e3b6496",
   "metadata": {},
   "outputs": [
    {
     "data": {
      "text/plain": [
       "array([[10,  9],\n",
       "       [ 2,  1]])"
      ]
     },
     "execution_count": 50,
     "metadata": {},
     "output_type": "execute_result"
    }
   ],
   "source": [
    "# print 10 9 2 1\n",
    "arr2[::-4,::-1]"
   ]
  },
  {
   "cell_type": "markdown",
   "id": "59804779-c560-4c56-bcfe-ca3ca1149922",
   "metadata": {},
   "source": [
    "### `indexing on 3D`"
   ]
  },
  {
   "cell_type": "code",
   "execution_count": 51,
   "id": "706defba-2c2e-4e9a-999c-74e1c8c1eb9d",
   "metadata": {},
   "outputs": [
    {
     "data": {
      "text/plain": [
       "array([[[ 1,  2],\n",
       "        [ 3,  4],\n",
       "        [ 5,  6],\n",
       "        [ 7,  8]],\n",
       "\n",
       "       [[ 9, 10],\n",
       "        [11, 12],\n",
       "        [13, 14],\n",
       "        [15, 16]]])"
      ]
     },
     "execution_count": 51,
     "metadata": {},
     "output_type": "execute_result"
    }
   ],
   "source": [
    "arr3"
   ]
  },
  {
   "cell_type": "code",
   "execution_count": 52,
   "id": "c045af80-7e6e-4414-bf51-72a7aeeb42d7",
   "metadata": {},
   "outputs": [
    {
     "name": "stdout",
     "output_type": "stream",
     "text": [
      "11\n"
     ]
    },
    {
     "data": {
      "text/plain": [
       "11"
      ]
     },
     "execution_count": 52,
     "metadata": {},
     "output_type": "execute_result"
    }
   ],
   "source": [
    "# 11 \n",
    "print(arr3[1][1][0]) \n",
    "# or\n",
    "arr3[1,1,0]"
   ]
  },
  {
   "cell_type": "code",
   "execution_count": 53,
   "id": "69f1a470-6f61-4ca2-8783-e4008f698d99",
   "metadata": {},
   "outputs": [
    {
     "data": {
      "text/plain": [
       "16"
      ]
     },
     "execution_count": 53,
     "metadata": {},
     "output_type": "execute_result"
    }
   ],
   "source": [
    "# 16 \n",
    "arr3[1,-1,-1]"
   ]
  },
  {
   "cell_type": "markdown",
   "id": "0cf3a42f-b3ec-4049-87e3-99a384c6f531",
   "metadata": {},
   "source": [
    "### `slicing on 3D`"
   ]
  },
  {
   "cell_type": "code",
   "execution_count": 54,
   "id": "c408dcd4-7285-4a0c-999c-75e785c5ad96",
   "metadata": {},
   "outputs": [
    {
     "data": {
      "text/plain": [
       "array([[[ 1,  2],\n",
       "        [ 3,  4],\n",
       "        [ 5,  6],\n",
       "        [ 7,  8]],\n",
       "\n",
       "       [[ 9, 10],\n",
       "        [11, 12],\n",
       "        [13, 14],\n",
       "        [15, 16]]])"
      ]
     },
     "execution_count": 54,
     "metadata": {},
     "output_type": "execute_result"
    }
   ],
   "source": [
    "arr3"
   ]
  },
  {
   "cell_type": "code",
   "execution_count": 55,
   "id": "8b4e931f-ab71-461a-bd90-76aee6acac4f",
   "metadata": {},
   "outputs": [
    {
     "data": {
      "text/plain": [
       "array([[ 3,  4],\n",
       "       [11, 12]])"
      ]
     },
     "execution_count": 55,
     "metadata": {},
     "output_type": "execute_result"
    }
   ],
   "source": [
    "# 3 4 11 12\n",
    "arr3[:,1,:]"
   ]
  },
  {
   "cell_type": "code",
   "execution_count": 56,
   "id": "14676af3-1929-4627-9ac7-e73b8975b000",
   "metadata": {},
   "outputs": [
    {
     "data": {
      "text/plain": [
       "array([[[ 1,  2],\n",
       "        [ 7,  8]],\n",
       "\n",
       "       [[ 9, 10],\n",
       "        [15, 16]]])"
      ]
     },
     "execution_count": 56,
     "metadata": {},
     "output_type": "execute_result"
    }
   ],
   "source": [
    "# 1 2 7 8 9 10 15 16 \n",
    "arr3[:,::3,:]"
   ]
  },
  {
   "cell_type": "code",
   "execution_count": 57,
   "id": "eee071d0-61b5-4da9-b127-1258f465bde4",
   "metadata": {},
   "outputs": [
    {
     "data": {
      "text/plain": [
       "array([3, 4])"
      ]
     },
     "execution_count": 57,
     "metadata": {},
     "output_type": "execute_result"
    }
   ],
   "source": [
    "# 3 4 \n",
    "arr3[0,1,:]\n"
   ]
  },
  {
   "cell_type": "code",
   "execution_count": 58,
   "id": "d5833725-89b9-4949-807c-c83a6ad15b5d",
   "metadata": {},
   "outputs": [
    {
     "data": {
      "text/plain": [
       "array([10, 12, 14, 16])"
      ]
     },
     "execution_count": 58,
     "metadata": {},
     "output_type": "execute_result"
    }
   ],
   "source": [
    "# 10 12 14 16\n",
    "arr3[1,:,1]"
   ]
  },
  {
   "cell_type": "markdown",
   "id": "3401ee2e-ac43-4e68-898d-78d263553fa0",
   "metadata": {},
   "source": [
    "# Iterations"
   ]
  },
  {
   "cell_type": "code",
   "execution_count": 59,
   "id": "acdd4f50-1f13-4d65-a5d8-faa10550d890",
   "metadata": {},
   "outputs": [
    {
     "data": {
      "text/plain": [
       "array([ 1,  2,  3,  4,  5,  6,  7,  8,  9, 10])"
      ]
     },
     "execution_count": 59,
     "metadata": {},
     "output_type": "execute_result"
    }
   ],
   "source": [
    "arr1"
   ]
  },
  {
   "cell_type": "code",
   "execution_count": 62,
   "id": "e962d2d4-df34-46d7-9551-cfe09750cc44",
   "metadata": {},
   "outputs": [
    {
     "name": "stdout",
     "output_type": "stream",
     "text": [
      "1 2 3 4 5 6 7 8 9 10 "
     ]
    }
   ],
   "source": [
    "for i in arr1 : \n",
    "    print(i,end=' ')"
   ]
  },
  {
   "cell_type": "code",
   "execution_count": 60,
   "id": "f44286fb-ff0d-4bcb-b6a7-03a8246bf7de",
   "metadata": {},
   "outputs": [
    {
     "data": {
      "text/plain": [
       "array([[ 1,  2],\n",
       "       [ 3,  4],\n",
       "       [ 5,  6],\n",
       "       [ 7,  8],\n",
       "       [ 9, 10]])"
      ]
     },
     "execution_count": 60,
     "metadata": {},
     "output_type": "execute_result"
    }
   ],
   "source": [
    "arr2"
   ]
  },
  {
   "cell_type": "code",
   "execution_count": 63,
   "id": "3ac62b9c-3edc-4dad-8e13-d51a0227ed1a",
   "metadata": {},
   "outputs": [
    {
     "name": "stdout",
     "output_type": "stream",
     "text": [
      "[1 2]\n",
      "[3 4]\n",
      "[5 6]\n",
      "[7 8]\n",
      "[ 9 10]\n"
     ]
    }
   ],
   "source": [
    "for i in arr2 : \n",
    "    print(i)"
   ]
  },
  {
   "cell_type": "code",
   "execution_count": 61,
   "id": "ae41f19d-1775-4cf7-ba9a-8737a014cc5e",
   "metadata": {},
   "outputs": [
    {
     "data": {
      "text/plain": [
       "array([[[ 1,  2],\n",
       "        [ 3,  4],\n",
       "        [ 5,  6],\n",
       "        [ 7,  8]],\n",
       "\n",
       "       [[ 9, 10],\n",
       "        [11, 12],\n",
       "        [13, 14],\n",
       "        [15, 16]]])"
      ]
     },
     "execution_count": 61,
     "metadata": {},
     "output_type": "execute_result"
    }
   ],
   "source": [
    "arr3"
   ]
  },
  {
   "cell_type": "code",
   "execution_count": 64,
   "id": "aa9fced1-0af5-46a2-91d3-0a80cd26d3a1",
   "metadata": {},
   "outputs": [
    {
     "name": "stdout",
     "output_type": "stream",
     "text": [
      "[[1 2]\n",
      " [3 4]\n",
      " [5 6]\n",
      " [7 8]]\n",
      "[[ 9 10]\n",
      " [11 12]\n",
      " [13 14]\n",
      " [15 16]]\n"
     ]
    }
   ],
   "source": [
    "for i in arr3 : \n",
    "    print(i)"
   ]
  },
  {
   "cell_type": "markdown",
   "id": "9b5abe3d-d01c-4c0a-a962-55db4cccbee3",
   "metadata": {},
   "source": [
    "`nditer()`"
   ]
  },
  {
   "cell_type": "code",
   "execution_count": 67,
   "id": "ea51e9a4-93db-4f7e-af8e-eb2ad8964206",
   "metadata": {},
   "outputs": [
    {
     "name": "stdout",
     "output_type": "stream",
     "text": [
      "1 2 3 4 5 6 7 8 9 10 11 12 13 14 15 16 "
     ]
    }
   ],
   "source": [
    "for i in np.nditer(arr3) : # nditer() function converts the any dimensional array into `1D`\n",
    "    print(i,end=' ')"
   ]
  },
  {
   "cell_type": "markdown",
   "id": "488de748-5515-4f34-b90d-5bc6a1e1b0d9",
   "metadata": {},
   "source": [
    "# Reshaping"
   ]
  },
  {
   "cell_type": "markdown",
   "id": "f048d0ed-989d-4726-b2df-8458bcd92427",
   "metadata": {},
   "source": [
    "`reshape() functtion` : already completed "
   ]
  },
  {
   "cell_type": "markdown",
   "id": "492d530c-26e7-475d-a160-c68862a5b115",
   "metadata": {},
   "source": [
    " `Transpose` \n"
   ]
  },
  {
   "cell_type": "code",
   "execution_count": 70,
   "id": "eec60789-4ac6-44aa-ad12-01fb0c6dff16",
   "metadata": {},
   "outputs": [
    {
     "data": {
      "text/plain": [
       "(5, 2)"
      ]
     },
     "execution_count": 70,
     "metadata": {},
     "output_type": "execute_result"
    }
   ],
   "source": [
    "arr2.shape"
   ]
  },
  {
   "cell_type": "code",
   "execution_count": 74,
   "id": "0212e29d-1300-4031-8ea4-ea5fd457aa77",
   "metadata": {},
   "outputs": [
    {
     "data": {
      "text/plain": [
       "(2, 5)"
      ]
     },
     "execution_count": 74,
     "metadata": {},
     "output_type": "execute_result"
    }
   ],
   "source": [
    "np.transpose(arr2).shape  # converts columns into rows and rows to columns\n",
    "# or \n",
    "arr2.T.shape"
   ]
  },
  {
   "cell_type": "markdown",
   "id": "7e8f99f6-d5be-4bd6-b5a9-50fc9f5abb4d",
   "metadata": {},
   "source": [
    "`ravel()` : same like nditer()"
   ]
  },
  {
   "cell_type": "code",
   "execution_count": 76,
   "id": "22f32444-1c68-4ace-a093-51b9702f458e",
   "metadata": {},
   "outputs": [
    {
     "data": {
      "text/plain": [
       "(16,)"
      ]
     },
     "execution_count": 76,
     "metadata": {},
     "output_type": "execute_result"
    }
   ],
   "source": [
    "np.ravel(arr3).shape # converts any dim to 1D"
   ]
  },
  {
   "cell_type": "markdown",
   "id": "e6f1de94-dd97-47d9-93a4-6f20f446ecd6",
   "metadata": {},
   "source": [
    "## Tip : temporary vs permanent\n",
    "#### when any functions displays the output then it is changed temporarly, when it display object instead of actual output means permanently changed"
   ]
  },
  {
   "cell_type": "markdown",
   "id": "d334064f-7c78-4b77-ab05-8b17a5959e5f",
   "metadata": {},
   "source": [
    "# Stacking "
   ]
  },
  {
   "cell_type": "markdown",
   "id": "1adbc99f-b304-47bb-8f8e-9417c6ec9e08",
   "metadata": {},
   "source": [
    "``` \n",
    "means : combining the two or more arrays either into one array horizontally or vertically \n",
    "```"
   ]
  },
  {
   "cell_type": "markdown",
   "id": "dbbda376-8b46-49a7-95ef-4bb41855512c",
   "metadata": {},
   "source": [
    "`hstack()` : combines two or more arrays horizontally"
   ]
  },
  {
   "cell_type": "code",
   "execution_count": 81,
   "id": "069e327f-8759-408c-985b-90c1d534ca8e",
   "metadata": {},
   "outputs": [],
   "source": [
    "arr1 = np.arange(12).reshape(4,3)\n",
    "arr2 = np.arange(12,24).reshape(4,3)"
   ]
  },
  {
   "cell_type": "code",
   "execution_count": 82,
   "id": "2643a1ff-1598-4776-8ca2-e87d1e4d7c83",
   "metadata": {},
   "outputs": [
    {
     "data": {
      "text/plain": [
       "array([[ 0,  1,  2],\n",
       "       [ 3,  4,  5],\n",
       "       [ 6,  7,  8],\n",
       "       [ 9, 10, 11]])"
      ]
     },
     "execution_count": 82,
     "metadata": {},
     "output_type": "execute_result"
    }
   ],
   "source": [
    "arr1"
   ]
  },
  {
   "cell_type": "code",
   "execution_count": 83,
   "id": "8168d877-2781-4688-b585-b54ef997dd0e",
   "metadata": {},
   "outputs": [
    {
     "data": {
      "text/plain": [
       "array([[12, 13, 14],\n",
       "       [15, 16, 17],\n",
       "       [18, 19, 20],\n",
       "       [21, 22, 23]])"
      ]
     },
     "execution_count": 83,
     "metadata": {},
     "output_type": "execute_result"
    }
   ],
   "source": [
    "arr2"
   ]
  },
  {
   "cell_type": "code",
   "execution_count": 86,
   "id": "304a238d-8d89-438c-a9fe-3489a7876869",
   "metadata": {},
   "outputs": [
    {
     "data": {
      "text/plain": [
       "array([[ 0,  1,  2, 12, 13, 14],\n",
       "       [ 3,  4,  5, 15, 16, 17],\n",
       "       [ 6,  7,  8, 18, 19, 20],\n",
       "       [ 9, 10, 11, 21, 22, 23]])"
      ]
     },
     "execution_count": 86,
     "metadata": {},
     "output_type": "execute_result"
    }
   ],
   "source": [
    "np.hstack((arr1,arr2))"
   ]
  },
  {
   "cell_type": "code",
   "execution_count": 87,
   "id": "0f5c9ebe-1f6f-4228-9b9c-03441a36c256",
   "metadata": {},
   "outputs": [
    {
     "data": {
      "text/plain": [
       "array([[ 0,  1,  2, 12, 13, 14,  0,  1,  2],\n",
       "       [ 3,  4,  5, 15, 16, 17,  3,  4,  5],\n",
       "       [ 6,  7,  8, 18, 19, 20,  6,  7,  8],\n",
       "       [ 9, 10, 11, 21, 22, 23,  9, 10, 11]])"
      ]
     },
     "execution_count": 87,
     "metadata": {},
     "output_type": "execute_result"
    }
   ],
   "source": [
    "np.hstack((arr1,arr2,arr1))"
   ]
  },
  {
   "cell_type": "markdown",
   "id": "a8d160a5-beff-4109-86c3-8ecb44148fce",
   "metadata": {},
   "source": [
    "`vstack()` : combines two or more arrays vertically"
   ]
  },
  {
   "cell_type": "code",
   "execution_count": 89,
   "id": "6cd224ee-3704-4a14-b47d-51df8015d7f9",
   "metadata": {},
   "outputs": [
    {
     "data": {
      "text/plain": [
       "array([[ 0,  1,  2],\n",
       "       [ 3,  4,  5],\n",
       "       [ 6,  7,  8],\n",
       "       [ 9, 10, 11],\n",
       "       [12, 13, 14],\n",
       "       [15, 16, 17],\n",
       "       [18, 19, 20],\n",
       "       [21, 22, 23]])"
      ]
     },
     "execution_count": 89,
     "metadata": {},
     "output_type": "execute_result"
    }
   ],
   "source": [
    "np.vstack((arr1,arr2))"
   ]
  },
  {
   "cell_type": "code",
   "execution_count": 90,
   "id": "877633a9-6100-4a15-aff5-af8e9570cc10",
   "metadata": {},
   "outputs": [
    {
     "data": {
      "text/plain": [
       "array([[ 0,  1,  2],\n",
       "       [ 3,  4,  5],\n",
       "       [ 6,  7,  8],\n",
       "       [ 9, 10, 11],\n",
       "       [12, 13, 14],\n",
       "       [15, 16, 17],\n",
       "       [18, 19, 20],\n",
       "       [21, 22, 23],\n",
       "       [ 0,  1,  2],\n",
       "       [ 3,  4,  5],\n",
       "       [ 6,  7,  8],\n",
       "       [ 9, 10, 11]])"
      ]
     },
     "execution_count": 90,
     "metadata": {},
     "output_type": "execute_result"
    }
   ],
   "source": [
    "np.vstack((arr1,arr2,arr1))"
   ]
  },
  {
   "cell_type": "markdown",
   "id": "204a331b-ec5f-4166-854d-c68c8d4b3e7e",
   "metadata": {},
   "source": [
    "# Spliting"
   ]
  },
  {
   "cell_type": "markdown",
   "id": "1bf79a83-492a-455f-9ca6-3a2b73575f3a",
   "metadata": {},
   "source": [
    "``` \n",
    "means : it divide the any array into mutiple equal parts\n",
    "```"
   ]
  },
  {
   "cell_type": "markdown",
   "id": "f2d9f842-a747-476b-8d68-7b0f1598393d",
   "metadata": {},
   "source": [
    "`hsplit()` : divides an array into multiple parts horizontally in equal size "
   ]
  },
  {
   "cell_type": "code",
   "execution_count": 94,
   "id": "a7c981aa-84e6-40a6-ba19-9b48ab16a804",
   "metadata": {},
   "outputs": [],
   "source": [
    "arr3 = arr1.T"
   ]
  },
  {
   "cell_type": "code",
   "execution_count": 95,
   "id": "91b3dfcf-596f-444a-b9bd-f07b5f9ea5f9",
   "metadata": {},
   "outputs": [
    {
     "data": {
      "text/plain": [
       "[array([[0, 3],\n",
       "        [1, 4],\n",
       "        [2, 5]]),\n",
       " array([[ 6,  9],\n",
       "        [ 7, 10],\n",
       "        [ 8, 11]])]"
      ]
     },
     "execution_count": 95,
     "metadata": {},
     "output_type": "execute_result"
    }
   ],
   "source": [
    "np.hsplit(arr3,2)"
   ]
  },
  {
   "cell_type": "code",
   "execution_count": 98,
   "id": "70988a92-4237-4882-be6b-536722298f44",
   "metadata": {},
   "outputs": [
    {
     "data": {
      "text/plain": [
       "[array([[0],\n",
       "        [1],\n",
       "        [2]]),\n",
       " array([[3],\n",
       "        [4],\n",
       "        [5]]),\n",
       " array([[6],\n",
       "        [7],\n",
       "        [8]]),\n",
       " array([[ 9],\n",
       "        [10],\n",
       "        [11]])]"
      ]
     },
     "execution_count": 98,
     "metadata": {},
     "output_type": "execute_result"
    }
   ],
   "source": [
    "np.hsplit(arr3,4)"
   ]
  },
  {
   "cell_type": "markdown",
   "id": "a58d2372-3152-4a9b-948d-d942b6e51a79",
   "metadata": {},
   "source": [
    "`vsplit()` : divides an array into multiple parts vertically in equal size"
   ]
  },
  {
   "cell_type": "code",
   "execution_count": 97,
   "id": "fd02a857-f66a-4525-b592-c0e96bdd9020",
   "metadata": {},
   "outputs": [
    {
     "data": {
      "text/plain": [
       "[array([[12, 13, 14],\n",
       "        [15, 16, 17]]),\n",
       " array([[18, 19, 20],\n",
       "        [21, 22, 23]])]"
      ]
     },
     "execution_count": 97,
     "metadata": {},
     "output_type": "execute_result"
    }
   ],
   "source": [
    "np.vsplit(arr2,2)"
   ]
  },
  {
   "cell_type": "code",
   "execution_count": 99,
   "id": "74c8e4b4-b9c1-4081-9bb3-a3e81cfb8c4d",
   "metadata": {},
   "outputs": [
    {
     "data": {
      "text/plain": [
       "[array([[12, 13, 14]]),\n",
       " array([[15, 16, 17]]),\n",
       " array([[18, 19, 20]]),\n",
       " array([[21, 22, 23]])]"
      ]
     },
     "execution_count": 99,
     "metadata": {},
     "output_type": "execute_result"
    }
   ],
   "source": [
    "np.vsplit(arr2,4)"
   ]
  }
 ],
 "metadata": {
  "kernelspec": {
   "display_name": "Python 3 (ipykernel)",
   "language": "python",
   "name": "python3"
  },
  "language_info": {
   "codemirror_mode": {
    "name": "ipython",
    "version": 3
   },
   "file_extension": ".py",
   "mimetype": "text/x-python",
   "name": "python",
   "nbconvert_exporter": "python",
   "pygments_lexer": "ipython3",
   "version": "3.10.10"
  }
 },
 "nbformat": 4,
 "nbformat_minor": 5
}
